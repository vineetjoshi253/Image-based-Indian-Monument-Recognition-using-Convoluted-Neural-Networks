{
  "nbformat": 4,
  "nbformat_minor": 0,
  "metadata": {
    "colab": {
      "name": "CNN.ipynb",
      "version": "0.3.2",
      "provenance": [],
      "collapsed_sections": [],
      "include_colab_link": true
    },
    "kernelspec": {
      "name": "python3",
      "display_name": "Python 3"
    },
    "accelerator": "GPU"
  },
  "cells": [
    {
      "cell_type": "markdown",
      "metadata": {
        "id": "view-in-github",
        "colab_type": "text"
      },
      "source": [
        "[View in Colaboratory](https://colab.research.google.com/github/vineetjoshi253/Image-based-Indian-Monument-Recognition-using-Convoluted-Neural-Networks/blob/master/CNN.ipynb)"
      ]
    },
    {
      "metadata": {
        "id": "Z99rLludr0RJ",
        "colab_type": "code",
        "colab": {}
      },
      "cell_type": "code",
      "source": [
        "!pip install -U -q PyDrive\n",
        " \n",
        "from pydrive.auth import GoogleAuth\n",
        "from pydrive.drive import GoogleDrive\n",
        "from google.colab import auth\n",
        "from oauth2client.client import GoogleCredentials"
      ],
      "execution_count": 0,
      "outputs": []
    },
    {
      "metadata": {
        "id": "S5vlVHxSmqqk",
        "colab_type": "code",
        "colab": {}
      },
      "cell_type": "code",
      "source": [
        "train_downloaded = drive.CreateFile({'id': '1g8ekKhFpiih5IpFNeIiUlpKIvCD7KYs_'})\n",
        "train_downloaded.GetContentFile('X.npy')\n",
        "test_downloaded = drive.CreateFile({'id': '1ifWS_MNnl4YN5Ae5K7MXBEJDNiwK84HZ'})\n",
        "test_downloaded.GetContentFile('Y.npy')  "
      ],
      "execution_count": 0,
      "outputs": []
    },
    {
      "metadata": {
        "id": "6vfNhddUsRfU",
        "colab_type": "code",
        "colab": {}
      },
      "cell_type": "code",
      "source": [
        "auth.authenticate_user()\n",
        "gauth = GoogleAuth()\n",
        "gauth.credentials = GoogleCredentials.get_application_default()\n",
        "drive = GoogleDrive(gauth)"
      ],
      "execution_count": 0,
      "outputs": []
    },
    {
      "metadata": {
        "id": "FZ_fUN7Dm_lT",
        "colab_type": "code",
        "colab": {
          "base_uri": "https://localhost:8080/",
          "height": 34
        },
        "outputId": "a0cf3535-4c0a-4a0a-ba49-941b8b1eefd5"
      },
      "cell_type": "code",
      "source": [
        "import numpy as np\n",
        "X=np.load('X.npy')\n",
        "Y=np.load('Y.npy')\n",
        "Z=np.zeros(712)\n",
        "index=0\n",
        "for i in range(0,712):\n",
        "  if(Y[i]==b'charminar'):\n",
        "    Z[index]=0\n",
        "    index+=1\n",
        "  elif(Y[i]==b'qutub-minar'):\n",
        "    Z[index]=1\n",
        "    index+=1\n",
        "  elif(Y[i]==b'india-gate'):\n",
        "    Z[index]=2\n",
        "    index+=1\n",
        "  elif(Y[i]==b'taj-mahal'):\n",
        "    Z[index]=3\n",
        "    index+=1\n",
        "  else:\n",
        "    Z[index]=4\n",
        "    index+=1\n",
        "print(X.shape)"
      ],
      "execution_count": 28,
      "outputs": [
        {
          "output_type": "stream",
          "text": [
            "(712, 9216)\n"
          ],
          "name": "stdout"
        }
      ]
    },
    {
      "metadata": {
        "id": "kq8q3fGv0bzG",
        "colab_type": "code",
        "colab": {}
      },
      "cell_type": "code",
      "source": [
        "from __future__ import print_function\n",
        "from keras.models import Sequential\n",
        "from keras.layers import Dense, Dropout, Activation, Flatten\n",
        "from keras.optimizers import Adam\n",
        "from keras.layers.normalization import BatchNormalization\n",
        "from keras.utils import np_utils\n",
        "from keras.layers import Conv2D, MaxPooling2D, ZeroPadding2D, GlobalAveragePooling2D\n",
        "from keras.layers.advanced_activations import LeakyReLU \n",
        "from keras.preprocessing.image import ImageDataGenerator\n",
        "\n",
        "x_train,x_test,y_train,y_test=train_test_split(X,Z,random_state=42,test_size=0.30)\n",
        "img_rows, img_cols, img_colors = 96, 96, 1\n",
        "\n",
        "num_classes=11\n",
        "y_train_one_hot = keras.utils.to_categorical(y_train)\n",
        "y_test_one_hot = keras.utils.to_categorical(y_test)\n",
        "\n",
        "\n",
        "x_train = x_train.reshape(x_train.shape[0], img_rows, img_cols, img_colors)\n",
        "x_test = x_test.reshape(x_test.shape[0], img_rows, img_cols, img_colors)\n",
        "\n",
        "model = Sequential()\n",
        "model.add(Conv2D(32, (3, 3), input_shape=(96,96,1)))\n",
        "model.add(BatchNormalization(axis=-1, momentum=0.001))\n",
        "model.add(Activation('sigmoid'))\n",
        "model.add(Conv2D(32, (3, 3)))\n",
        "model.add(BatchNormalization(axis=-1, momentum=0.001))\n",
        "model.add(Activation('sigmoid'))\n",
        "model.add(MaxPooling2D(pool_size=(2,2)))\n",
        "\n",
        "model.add(Conv2D(64,(3, 3)))\n",
        "model.add(BatchNormalization(axis=-1, momentum=0.001))\n",
        "model.add(Activation('sigmoid'))\n",
        "model.add(Conv2D(64, (3, 3)))\n",
        "model.add(BatchNormalization(axis=-1, momentum=0.001))\n",
        "model.add(Activation('sigmoid'))\n",
        "model.add(MaxPooling2D(pool_size=(2,2)))\n",
        "\n",
        "model.add(Flatten())\n",
        "\n",
        "# Fully connected layer\n",
        "model.add(Dense(128))\n",
        "model.add(BatchNormalization())\n",
        "model.add(Activation('relu'))\n",
        "model.add(Dropout(0.2))\n",
        "model.add(Dense(5))\n",
        "\n",
        "model.add(Activation('softmax'))\n",
        "model.compile(loss='categorical_crossentropy', optimizer=Adam(), metrics=['accuracy'])\n",
        "\n",
        "model.fit(x_train,y_train_one_hot,validation_data=(x_test,y_test_one_hot),verbose=1,batch_size=20,epochs=100)\n"
      ],
      "execution_count": 0,
      "outputs": []
    },
    {
      "metadata": {
        "id": "wWeLCR05OH8y",
        "colab_type": "code",
        "colab": {
          "base_uri": "https://localhost:8080/",
          "height": 850
        },
        "outputId": "c5211019-d44a-4401-d6ee-3eb8a7393d59"
      },
      "cell_type": "code",
      "source": [
        "model.summary()"
      ],
      "execution_count": 30,
      "outputs": [
        {
          "output_type": "stream",
          "text": [
            "_________________________________________________________________\n",
            "Layer (type)                 Output Shape              Param #   \n",
            "=================================================================\n",
            "conv2d_1 (Conv2D)            (None, 98, 98, 64)        640       \n",
            "_________________________________________________________________\n",
            "batch_normalization_1 (Batch (None, 98, 98, 64)        256       \n",
            "_________________________________________________________________\n",
            "max_pooling2d_1 (MaxPooling2 (None, 49, 49, 64)        0         \n",
            "_________________________________________________________________\n",
            "conv2d_2 (Conv2D)            (None, 47, 47, 32)        18464     \n",
            "_________________________________________________________________\n",
            "batch_normalization_2 (Batch (None, 47, 47, 32)        128       \n",
            "_________________________________________________________________\n",
            "max_pooling2d_2 (MaxPooling2 (None, 23, 23, 32)        0         \n",
            "_________________________________________________________________\n",
            "conv2d_3 (Conv2D)            (None, 21, 21, 16)        4624      \n",
            "_________________________________________________________________\n",
            "batch_normalization_3 (Batch (None, 21, 21, 16)        64        \n",
            "_________________________________________________________________\n",
            "max_pooling2d_3 (MaxPooling2 (None, 10, 10, 16)        0         \n",
            "_________________________________________________________________\n",
            "conv2d_4 (Conv2D)            (None, 8, 8, 8)           1160      \n",
            "_________________________________________________________________\n",
            "batch_normalization_4 (Batch (None, 8, 8, 8)           32        \n",
            "_________________________________________________________________\n",
            "max_pooling2d_4 (MaxPooling2 (None, 4, 4, 8)           0         \n",
            "_________________________________________________________________\n",
            "conv2d_5 (Conv2D)            (None, 2, 2, 4)           292       \n",
            "_________________________________________________________________\n",
            "batch_normalization_5 (Batch (None, 2, 2, 4)           16        \n",
            "_________________________________________________________________\n",
            "max_pooling2d_5 (MaxPooling2 (None, 1, 1, 4)           0         \n",
            "_________________________________________________________________\n",
            "flatten_1 (Flatten)          (None, 4)                 0         \n",
            "_________________________________________________________________\n",
            "dense_1 (Dense)              (None, 100)               500       \n",
            "_________________________________________________________________\n",
            "activation_1 (Activation)    (None, 100)               0         \n",
            "_________________________________________________________________\n",
            "dropout_1 (Dropout)          (None, 100)               0         \n",
            "_________________________________________________________________\n",
            "dense_2 (Dense)              (None, 12)                1212      \n",
            "_________________________________________________________________\n",
            "activation_2 (Activation)    (None, 12)                0         \n",
            "=================================================================\n",
            "Total params: 27,388\n",
            "Trainable params: 27,140\n",
            "Non-trainable params: 248\n",
            "_________________________________________________________________\n"
          ],
          "name": "stdout"
        }
      ]
    },
    {
      "metadata": {
        "id": "LCVf2CgZJ_Re",
        "colab_type": "code",
        "colab": {}
      },
      "cell_type": "code",
      "source": [
        "model.fit(x_train,y_train_one_hot,validation_data=(x_test,y_test_one_hot),verbose=1,batch_size=32,epochs=100)"
      ],
      "execution_count": 0,
      "outputs": []
    }
  ]
}